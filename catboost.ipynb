{
 "cells": [
  {
   "cell_type": "code",
   "execution_count": 1,
   "metadata": {},
   "outputs": [],
   "source": [
    "import warnings\n",
    "warnings.filterwarnings(\"ignore\", category=FutureWarning)\n",
    "\n",
    "import pandas as pd\n",
    "import numpy as np\n",
    "from sklearn.pipeline import Pipeline\n",
    "from sklearn.compose import ColumnTransformer\n",
    "from sklearn.impute import SimpleImputer\n",
    "from sklearn.preprocessing import OneHotEncoder, StandardScaler\n",
    "from sklearn.model_selection import train_test_split, StratifiedKFold, cross_validate\n",
    "from sklearn.metrics import accuracy_score, f1_score, roc_auc_score"
   ]
  },
  {
   "cell_type": "code",
   "execution_count": 6,
   "metadata": {},
   "outputs": [],
   "source": [
    "from catboost import CatBoostClassifier\n",
    "# 데이터 로드 및 분할 \n",
    "df = pd.read_csv('train.csv')\n",
    "X = df.drop(['id', 'shares', 'y'], axis=1)\n",
    "y = df['y']\n",
    "X_trainval, X_test, y_trainval, y_test = train_test_split(\n",
    "    X, y, test_size=0.2, random_state=42, stratify=y\n",
    ")\n"
   ]
  },
  {
   "cell_type": "code",
   "execution_count": 7,
   "metadata": {},
   "outputs": [],
   "source": [
    "# 전처리 \n",
    "num_cols = X.select_dtypes(include=['int64', 'float64']).columns.tolist()\n",
    "cat_cols = ['data_channel', 'weekday']\n",
    "\n",
    "numeric_pipe = Pipeline([\n",
    "    ('imputer', SimpleImputer(strategy='mean')),\n",
    "    ('scaler', StandardScaler())\n",
    "])\n",
    "categorical_pipe = Pipeline([\n",
    "    ('imputer', SimpleImputer(strategy='most_frequent')),\n",
    "    ('ohe', OneHotEncoder(drop='first', sparse_output=False))\n",
    "])\n",
    "preprocessor = ColumnTransformer([\n",
    "    ('num', numeric_pipe, num_cols),\n",
    "    ('cat', categorical_pipe, cat_cols)\n",
    "])"
   ]
  },
  {
   "cell_type": "code",
   "execution_count": 9,
   "metadata": {},
   "outputs": [
    {
     "name": "stdout",
     "output_type": "stream",
     "text": [
      "5-Fold CV (CatBoost)\n",
      "[Fold 1] Accuracy: 0.6523, F1: 0.6423, AUC: 0.7201, Composite: 0.6716\n",
      "[Fold 2] Accuracy: 0.6543, F1: 0.6513, AUC: 0.7160, Composite: 0.6739\n",
      "[Fold 3] Accuracy: 0.6456, F1: 0.6442, AUC: 0.7005, Composite: 0.6634\n",
      "[Fold 4] Accuracy: 0.6655, F1: 0.6625, AUC: 0.7216, Composite: 0.6832\n",
      "[Fold 5] Accuracy: 0.6436, F1: 0.6366, AUC: 0.7070, Composite: 0.6624\n",
      "\n",
      "평균 Composite Score: 0.6709066417040125\n",
      "\n",
      "최종 Holdout Test (CatBoost)\n",
      "Accuracy : 0.6703\n",
      "F1 Score : 0.6665\n",
      "ROC AUC  : 0.7262\n",
      "Composite: 0.6877\n"
     ]
    }
   ],
   "source": [
    "# 모델 정의\n",
    "pipe = Pipeline([\n",
    "    ('pre', preprocessor),\n",
    "    ('clf', CatBoostClassifier(\n",
    "        iterations=1000,\n",
    "        learning_rate=0.05,\n",
    "        depth=6,\n",
    "        random_state=42,\n",
    "        verbose=0  \n",
    "    ))\n",
    "])\n",
    "# 5-Fold CV \n",
    "cv = StratifiedKFold(n_splits=5, shuffle=True, random_state=42)\n",
    "scoring = ['accuracy', 'f1', 'roc_auc']\n",
    "cv_results = cross_validate(pipe, X_trainval, y_trainval, cv=cv, scoring=scoring)\n",
    "\n",
    "print(\"5-Fold CV (CatBoost)\")\n",
    "for fold, (acc, f1, auc) in enumerate(zip(cv_results['test_accuracy'], cv_results['test_f1'], cv_results['test_roc_auc']), 1):\n",
    "    comp = (acc + f1 + auc) / 3\n",
    "    print(f\"[Fold {fold}] Accuracy: {acc:.4f}, F1: {f1:.4f}, AUC: {auc:.4f}, Composite: {comp:.4f}\")\n",
    "print(\"\\n평균 Composite Score:\", ((cv_results['test_accuracy'] + cv_results['test_f1'] + cv_results['test_roc_auc']) / 3).mean())\n",
    "\n",
    "# 최종 Holdout Test\n",
    "pipe.fit(X_trainval, y_trainval)\n",
    "y_pred = pipe.predict(X_test)\n",
    "y_prob = pipe.predict_proba(X_test)[:, 1]\n",
    "\n",
    "acc = accuracy_score(y_test, y_pred)\n",
    "f1  = f1_score(y_test, y_pred)\n",
    "auc = roc_auc_score(y_test, y_prob)\n",
    "comp = (acc + f1 + auc) / 3\n",
    "\n",
    "print(\"\\n최종 Holdout Test (CatBoost)\")\n",
    "print(f\"Accuracy : {acc:.4f}\")\n",
    "print(f\"F1 Score : {f1:.4f}\")\n",
    "print(f\"ROC AUC  : {auc:.4f}\")\n",
    "print(f\"Composite: {comp:.4f}\")"
   ]
  }
 ],
 "metadata": {
  "kernelspec": {
   "display_name": "base",
   "language": "python",
   "name": "python3"
  },
  "language_info": {
   "codemirror_mode": {
    "name": "ipython",
    "version": 3
   },
   "file_extension": ".py",
   "mimetype": "text/x-python",
   "name": "python",
   "nbconvert_exporter": "python",
   "pygments_lexer": "ipython3",
   "version": "3.12.9"
  }
 },
 "nbformat": 4,
 "nbformat_minor": 2
}
