{
  "cells": [
    {
      "cell_type": "code",
      "source": [
        "!pip install catboost"
      ],
      "metadata": {
        "colab": {
          "base_uri": "https://localhost:8080/"
        },
        "id": "T0OzJjzKgdA-",
        "outputId": "9c42d119-50bc-4fc5-dcda-5f69eb750d74"
      },
      "execution_count": 3,
      "outputs": [
        {
          "output_type": "stream",
          "name": "stdout",
          "text": [
            "Collecting catboost\n",
            "  Downloading catboost-1.2.8-cp311-cp311-manylinux2014_x86_64.whl.metadata (1.2 kB)\n",
            "Requirement already satisfied: graphviz in /usr/local/lib/python3.11/dist-packages (from catboost) (0.20.3)\n",
            "Requirement already satisfied: matplotlib in /usr/local/lib/python3.11/dist-packages (from catboost) (3.10.0)\n",
            "Requirement already satisfied: numpy<3.0,>=1.16.0 in /usr/local/lib/python3.11/dist-packages (from catboost) (2.0.2)\n",
            "Requirement already satisfied: pandas>=0.24 in /usr/local/lib/python3.11/dist-packages (from catboost) (2.2.2)\n",
            "Requirement already satisfied: scipy in /usr/local/lib/python3.11/dist-packages (from catboost) (1.15.3)\n",
            "Requirement already satisfied: plotly in /usr/local/lib/python3.11/dist-packages (from catboost) (5.24.1)\n",
            "Requirement already satisfied: six in /usr/local/lib/python3.11/dist-packages (from catboost) (1.17.0)\n",
            "Requirement already satisfied: python-dateutil>=2.8.2 in /usr/local/lib/python3.11/dist-packages (from pandas>=0.24->catboost) (2.9.0.post0)\n",
            "Requirement already satisfied: pytz>=2020.1 in /usr/local/lib/python3.11/dist-packages (from pandas>=0.24->catboost) (2025.2)\n",
            "Requirement already satisfied: tzdata>=2022.7 in /usr/local/lib/python3.11/dist-packages (from pandas>=0.24->catboost) (2025.2)\n",
            "Requirement already satisfied: contourpy>=1.0.1 in /usr/local/lib/python3.11/dist-packages (from matplotlib->catboost) (1.3.2)\n",
            "Requirement already satisfied: cycler>=0.10 in /usr/local/lib/python3.11/dist-packages (from matplotlib->catboost) (0.12.1)\n",
            "Requirement already satisfied: fonttools>=4.22.0 in /usr/local/lib/python3.11/dist-packages (from matplotlib->catboost) (4.58.0)\n",
            "Requirement already satisfied: kiwisolver>=1.3.1 in /usr/local/lib/python3.11/dist-packages (from matplotlib->catboost) (1.4.8)\n",
            "Requirement already satisfied: packaging>=20.0 in /usr/local/lib/python3.11/dist-packages (from matplotlib->catboost) (24.2)\n",
            "Requirement already satisfied: pillow>=8 in /usr/local/lib/python3.11/dist-packages (from matplotlib->catboost) (11.2.1)\n",
            "Requirement already satisfied: pyparsing>=2.3.1 in /usr/local/lib/python3.11/dist-packages (from matplotlib->catboost) (3.2.3)\n",
            "Requirement already satisfied: tenacity>=6.2.0 in /usr/local/lib/python3.11/dist-packages (from plotly->catboost) (9.1.2)\n",
            "Downloading catboost-1.2.8-cp311-cp311-manylinux2014_x86_64.whl (99.2 MB)\n",
            "\u001b[2K   \u001b[90m━━━━━━━━━━━━━━━━━━━━━━━━━━━━━━━━━━━━━━━━\u001b[0m \u001b[32m99.2/99.2 MB\u001b[0m \u001b[31m8.1 MB/s\u001b[0m eta \u001b[36m0:00:00\u001b[0m\n",
            "\u001b[?25hInstalling collected packages: catboost\n",
            "Successfully installed catboost-1.2.8\n"
          ]
        }
      ]
    },
    {
      "cell_type": "code",
      "execution_count": 1,
      "metadata": {
        "id": "IWfGZX83fl7N"
      },
      "outputs": [],
      "source": [
        "import warnings\n",
        "warnings.filterwarnings(\"ignore\", category=FutureWarning)\n",
        "\n",
        "import pandas as pd\n",
        "import numpy as np\n",
        "from sklearn.pipeline import Pipeline\n",
        "from sklearn.compose import ColumnTransformer\n",
        "from sklearn.impute import SimpleImputer\n",
        "from sklearn.preprocessing import OneHotEncoder, StandardScaler\n",
        "from sklearn.model_selection import train_test_split, StratifiedKFold, cross_validate\n",
        "from sklearn.metrics import accuracy_score, f1_score, roc_auc_score"
      ]
    },
    {
      "cell_type": "code",
      "execution_count": 4,
      "metadata": {
        "colab": {
          "base_uri": "https://localhost:8080/"
        },
        "id": "Rq_oti7Yfl7W",
        "outputId": "c430617f-4ecc-4a8a-8552-2f3450e8116a"
      },
      "outputs": [
        {
          "output_type": "stream",
          "name": "stdout",
          "text": [
            "Mounted at /content/drive\n"
          ]
        }
      ],
      "source": [
        "from catboost import CatBoostClassifier\n",
        "# 데이터 로드 및 분할\n",
        "\n",
        "from google.colab import drive\n",
        "drive.mount('/content/drive')"
      ]
    },
    {
      "cell_type": "code",
      "source": [
        "data_path = '/content/drive/MyDrive/Colab Notebooks/패턴인식/'\n",
        "df = pd.read_csv(data_path + 'train.csv')\n",
        "\n",
        "X = df.drop(['id', 'shares', 'y'], axis=1)\n",
        "\n",
        "# drop_cols = [\n",
        "#     'n_non_stop_words',\n",
        "#     'global_rate_positive_words', 'global_rate_negative_words',\n",
        "#     'LDA_00', 'LDA_01', 'LDA_02', 'LDA_03', 'LDA_04'\n",
        "# ]\n",
        "# X = X.drop(columns=[col for col in drop_cols if col in X.columns])\n",
        "\n",
        "y = df['y']\n",
        "X_trainval, X_test, y_trainval, y_test = train_test_split(\n",
        "    X, y, test_size=0.2, random_state=42, stratify=y\n",
        ")"
      ],
      "metadata": {
        "id": "LKltAzTMfw89"
      },
      "execution_count": 5,
      "outputs": []
    },
    {
      "cell_type": "code",
      "execution_count": 6,
      "metadata": {
        "id": "mc8vNVROfl7Z"
      },
      "outputs": [],
      "source": [
        "# 전처리\n",
        "num_cols = X.select_dtypes(include=['int64', 'float64']).columns.tolist()\n",
        "cat_cols = ['data_channel', 'weekday']\n",
        "\n",
        "numeric_pipe = Pipeline([\n",
        "    ('imputer', SimpleImputer(strategy='mean')),\n",
        "    ('scaler', StandardScaler())\n",
        "])\n",
        "categorical_pipe = Pipeline([\n",
        "    ('imputer', SimpleImputer(strategy='most_frequent')),\n",
        "    ('ohe', OneHotEncoder(drop='first', sparse_output=False))\n",
        "])\n",
        "preprocessor = ColumnTransformer([\n",
        "    ('num', numeric_pipe, num_cols),\n",
        "    ('cat', categorical_pipe, cat_cols)\n",
        "])"
      ]
    },
    {
      "cell_type": "code",
      "execution_count": 7,
      "metadata": {
        "colab": {
          "base_uri": "https://localhost:8080/"
        },
        "id": "faFeWnzrfl7c",
        "outputId": "8e05c988-5c24-4500-eb0a-8d1534fa1cf2"
      },
      "outputs": [
        {
          "output_type": "stream",
          "name": "stdout",
          "text": [
            "5-Fold CV (CatBoost)\n",
            "[Fold 1] Accuracy: 0.6636, F1: 0.6561, AUC: 0.7260, Composite: 0.6819\n",
            "[Fold 2] Accuracy: 0.6481, F1: 0.6459, AUC: 0.7118, Composite: 0.6686\n",
            "[Fold 3] Accuracy: 0.6394, F1: 0.6384, AUC: 0.7022, Composite: 0.6600\n",
            "[Fold 4] Accuracy: 0.6608, F1: 0.6566, AUC: 0.7183, Composite: 0.6785\n",
            "[Fold 5] Accuracy: 0.6501, F1: 0.6462, AUC: 0.7057, Composite: 0.6673\n",
            "\n",
            "평균 Composite Score: 0.6712667965566722\n",
            "\n",
            "최종 Holdout Test (CatBoost)\n",
            "Accuracy : 0.6631\n",
            "F1 Score : 0.6586\n",
            "ROC AUC  : 0.7208\n",
            "Composite: 0.6808\n"
          ]
        }
      ],
      "source": [
        "# 모델 정의\n",
        "pipe = Pipeline([\n",
        "    ('pre', preprocessor),\n",
        "    ('clf', CatBoostClassifier(\n",
        "        iterations=1000,\n",
        "        learning_rate=0.05,\n",
        "        depth=6,\n",
        "        random_state=42,\n",
        "        verbose=0\n",
        "    ))\n",
        "])\n",
        "# 5-Fold CV\n",
        "cv = StratifiedKFold(n_splits=5, shuffle=True, random_state=42)\n",
        "scoring = ['accuracy', 'f1', 'roc_auc']\n",
        "cv_results = cross_validate(pipe, X_trainval, y_trainval, cv=cv, scoring=scoring)\n",
        "\n",
        "print(\"5-Fold CV (CatBoost)\")\n",
        "for fold, (acc, f1, auc) in enumerate(zip(cv_results['test_accuracy'], cv_results['test_f1'], cv_results['test_roc_auc']), 1):\n",
        "    comp = (acc + f1 + auc) / 3\n",
        "    print(f\"[Fold {fold}] Accuracy: {acc:.4f}, F1: {f1:.4f}, AUC: {auc:.4f}, Composite: {comp:.4f}\")\n",
        "print(\"\\n평균 Composite Score:\", ((cv_results['test_accuracy'] + cv_results['test_f1'] + cv_results['test_roc_auc']) / 3).mean())\n",
        "\n",
        "# 최종 Holdout Test\n",
        "pipe.fit(X_trainval, y_trainval)\n",
        "y_pred = pipe.predict(X_test)\n",
        "y_prob = pipe.predict_proba(X_test)[:, 1]\n",
        "\n",
        "acc = accuracy_score(y_test, y_pred)\n",
        "f1  = f1_score(y_test, y_pred)\n",
        "auc = roc_auc_score(y_test, y_prob)\n",
        "comp = (acc + f1 + auc) / 3\n",
        "\n",
        "print(\"\\n최종 Holdout Test (CatBoost)\")\n",
        "print(f\"Accuracy : {acc:.4f}\")\n",
        "print(f\"F1 Score : {f1:.4f}\")\n",
        "print(f\"ROC AUC  : {auc:.4f}\")\n",
        "print(f\"Composite: {comp:.4f}\")"
      ]
    }
  ],
  "metadata": {
    "kernelspec": {
      "display_name": "base",
      "language": "python",
      "name": "python3"
    },
    "language_info": {
      "codemirror_mode": {
        "name": "ipython",
        "version": 3
      },
      "file_extension": ".py",
      "mimetype": "text/x-python",
      "name": "python",
      "nbconvert_exporter": "python",
      "pygments_lexer": "ipython3",
      "version": "3.12.9"
    },
    "colab": {
      "provenance": []
    }
  },
  "nbformat": 4,
  "nbformat_minor": 0
}