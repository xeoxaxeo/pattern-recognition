{
  "nbformat": 4,
  "nbformat_minor": 0,
  "metadata": {
    "colab": {
      "provenance": []
    },
    "kernelspec": {
      "name": "python3",
      "display_name": "Python 3"
    },
    "language_info": {
      "name": "python"
    }
  },
  "cells": [
    {
      "cell_type": "code",
      "execution_count": 2,
      "metadata": {
        "id": "p9FT3U6_dDV6"
      },
      "outputs": [],
      "source": [
        "import warnings\n",
        "warnings.filterwarnings(\"ignore\", category=FutureWarning) # 경고문 무시\n",
        "\n",
        "import pandas as pd\n",
        "import numpy as np\n",
        "from sklearn.pipeline import Pipeline\n",
        "from sklearn.compose import ColumnTransformer\n",
        "from sklearn.impute import SimpleImputer\n",
        "from sklearn.preprocessing import OneHotEncoder, StandardScaler\n",
        "from sklearn.linear_model import LogisticRegression\n",
        "from sklearn.model_selection import train_test_split, StratifiedKFold, cross_val_score, cross_validate\n",
        "from sklearn.metrics import accuracy_score, f1_score, roc_auc_score"
      ]
    },
    {
      "cell_type": "code",
      "source": [
        "# 데이터 불러오기\n",
        "from google.colab import drive\n",
        "drive.mount('/content/drive')\n",
        "train_src = '/content/drive/MyDrive/Colab Notebooks/패턴인식/train.csv'"
      ],
      "metadata": {
        "id": "iK_i5Si0kq0X",
        "colab": {
          "base_uri": "https://localhost:8080/"
        },
        "outputId": "f98eca3b-bf32-4f31-cfa0-59e203b7dd01"
      },
      "execution_count": 3,
      "outputs": [
        {
          "output_type": "stream",
          "name": "stdout",
          "text": [
            "Drive already mounted at /content/drive; to attempt to forcibly remount, call drive.mount(\"/content/drive\", force_remount=True).\n"
          ]
        }
      ]
    },
    {
      "cell_type": "code",
      "source": [
        "df = pd.read_csv(train_src)\n",
        "\n",
        "X = df.drop(['id', 'shares', 'y'], axis=1)\n",
        "y = df['y']\n",
        "\n",
        "X_trainval, X_test, y_trainval, y_test = train_test_split(X, y, test_size=0.2, random_state=42, stratify=y)\n"
      ],
      "metadata": {
        "id": "jcTwAZ4borii"
      },
      "execution_count": 7,
      "outputs": []
    },
    {
      "cell_type": "code",
      "source": [
        "num_cols = X.select_dtypes(include=['int64', 'float64']).columns.tolist()\n",
        "cat_cols = ['data_channel', 'weekday']\n",
        "\n",
        "# 전처리 파이프라인\n",
        "numeric_pipe = Pipeline([\n",
        "    ('imputer', SimpleImputer(strategy='mean')),\n",
        "    ('scaler', StandardScaler())\n",
        "])\n",
        "categorical_pipe = Pipeline([\n",
        "    ('imputer', SimpleImputer(strategy='most_frequent')),\n",
        "    ('ohe', OneHotEncoder(drop='first', sparse_output=False))\n",
        "])\n",
        "preprocessor = ColumnTransformer([\n",
        "    ('num', numeric_pipe, num_cols),\n",
        "    ('cat', categorical_pipe, cat_cols)\n",
        "])"
      ],
      "metadata": {
        "id": "r0zwVMihlrIq"
      },
      "execution_count": 8,
      "outputs": []
    },
    {
      "cell_type": "code",
      "source": [
        "# 모델 정의 <- 모델 테스트할 때 여기만 수정하시면 됩니다\n",
        "pipe = Pipeline([\n",
        "    ('pre', preprocessor),\n",
        "    ('clf', LogisticRegression(max_iter=1000, random_state=42))\n",
        "])"
      ],
      "metadata": {
        "id": "6jcIQqu5nuvy"
      },
      "execution_count": 9,
      "outputs": []
    },
    {
      "cell_type": "code",
      "source": [
        "# 5-Fold CV (only on train_val)\n",
        "cv = StratifiedKFold(n_splits=5, shuffle=True, random_state=42)\n",
        "scoring = ['accuracy', 'f1', 'roc_auc']\n",
        "\n",
        "cv_results = cross_validate(pipe, X_trainval, y_trainval, cv=cv, scoring=scoring)\n",
        "\n",
        "acc = cv_results['test_accuracy']\n",
        "f1 = cv_results['test_f1']\n",
        "auc = cv_results['test_roc_auc']\n",
        "comp = (acc + f1 + auc) / 3\n",
        "\n",
        "print(\"5-Fold CV (only on train_val)\")\n",
        "for i in range(len(acc)):\n",
        "    print(f\"[Fold {i+1}] Accuracy: {acc[i]:.4f}, F1: {f1[i]:.4f}, AUC: {auc[i]:.4f}, Composite: {comp[i]:.4f}\")\n",
        "print(\"\\n평균 Composite Score:\", comp.mean())\n",
        "\n",
        "# 전체 train_val로 학습 후 test로 최종 성능 평가\n",
        "pipe.fit(X_trainval, y_trainval)\n",
        "y_pred = pipe.predict(X_test)\n",
        "y_prob = pipe.predict_proba(X_test)[:, 1]\n",
        "\n",
        "acc = accuracy_score(y_test, y_pred)\n",
        "f1 = f1_score(y_test, y_pred)\n",
        "auc = roc_auc_score(y_test, y_prob)\n",
        "comp = (acc + f1 + auc) / 3\n",
        "\n",
        "print(\"\\n최종 Holdout Test 성능\")\n",
        "print(f\"Accuracy : {acc:.4f}\")\n",
        "print(f\"F1 Score : {f1:.4f}\")\n",
        "print(f\"ROC AUC  : {auc:.4f}\")\n",
        "print(f\"Composite: {comp:.4f}\")"
      ],
      "metadata": {
        "colab": {
          "base_uri": "https://localhost:8080/"
        },
        "id": "wLcRQ-xS24OF",
        "outputId": "2c44d11d-3a4a-461f-b5b6-81ce8912ea85"
      },
      "execution_count": 10,
      "outputs": [
        {
          "output_type": "stream",
          "name": "stdout",
          "text": [
            "5-Fold CV (only on train_val)\n",
            "[Fold 1] Accuracy: 0.6486, F1: 0.6338, AUC: 0.6993, Composite: 0.6606\n",
            "[Fold 2] Accuracy: 0.6320, F1: 0.6206, AUC: 0.6821, Composite: 0.6449\n",
            "[Fold 3] Accuracy: 0.6346, F1: 0.6268, AUC: 0.6791, Composite: 0.6468\n",
            "[Fold 4] Accuracy: 0.6326, F1: 0.6210, AUC: 0.6830, Composite: 0.6455\n",
            "[Fold 5] Accuracy: 0.6180, F1: 0.6045, AUC: 0.6702, Composite: 0.6309\n",
            "\n",
            "평균 Composite Score: 0.6457482923867547\n",
            "\n",
            "최종 Holdout Test 성능\n",
            "Accuracy : 0.6561\n",
            "F1 Score : 0.6451\n",
            "ROC AUC  : 0.6995\n",
            "Composite: 0.6669\n"
          ]
        }
      ]
    }
  ]
}